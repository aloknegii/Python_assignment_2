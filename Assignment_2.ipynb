{
 "cells": [
  {
   "cell_type": "markdown",
   "id": "a8abba51-9d2a-4664-bbe4-2c4e635546f9",
   "metadata": {},
   "source": [
    "# 1. Basic Function Implementation"
   ]
  },
  {
   "cell_type": "markdown",
   "id": "3d0e4879-2939-418d-9878-1658b60b0992",
   "metadata": {},
   "source": [
    "## Write a function greet that takes two arguments : name(a string) and greeting(a string with a default value of \"Hello\"). The function should return a greeting message."
   ]
  },
  {
   "cell_type": "code",
   "execution_count": 3,
   "id": "d70e6a9e-8aeb-42de-8ac8-14d31b5e19eb",
   "metadata": {},
   "outputs": [
    {
     "name": "stdout",
     "output_type": "stream",
     "text": [
      "Hello! Alok\n",
      "Good Morning! Alok\n"
     ]
    }
   ],
   "source": [
    "def greet(name, msg = 'Hello!'):\n",
    "    return msg + \" \" + name\n",
    "print(greet('Alok'))\n",
    "print(greet('Alok', 'Good Morning!'))"
   ]
  },
  {
   "cell_type": "markdown",
   "id": "93f2f2f2-2b1a-477f-b081-6d0fe0651086",
   "metadata": {},
   "source": [
    "# 2. Named Arguments"
   ]
  },
  {
   "cell_type": "markdown",
   "id": "c94d6ac0-e817-4333-83ef-24fae1083f95",
   "metadata": {},
   "source": [
    "## Create a function create_profile that takes arguments for name age , and city as named arguments. The function should return a string like \"Name: Alice, Age: 25, City: New York\". Ensure that the age argument has a default value of 18."
   ]
  },
  {
   "cell_type": "code",
   "execution_count": 7,
   "id": "a2e63fe2-5c38-46c9-8f60-f2ac47cfbd8c",
   "metadata": {},
   "outputs": [
    {
     "name": "stdout",
     "output_type": "stream",
     "text": [
      "Name: Alok, Age: 22, City: Dehradun\n",
      "Name: Sheela, Age: 18, City: Jodhpur\n"
     ]
    }
   ],
   "source": [
    "def create_profile(name,city,age = 18):\n",
    "    return f\"Name: {name}, Age: {age}, City: {city}\"\n",
    "\n",
    "print(create_profile(name='Alok', city = 'Dehradun', age=22))\n",
    "print(create_profile(name='Sheela', city='Jodhpur'))"
   ]
  },
  {
   "cell_type": "markdown",
   "id": "8efe248f-5e08-45eb-ba48-c7552654dd39",
   "metadata": {},
   "source": [
    "# 3. Args and Kwargs"
   ]
  },
  {
   "cell_type": "markdown",
   "id": "c7bf0f75-e074-4b07-a27a-4193c836fdd0",
   "metadata": {},
   "source": [
    "## Write a function sum_numbers that takes any number of positional arguments(args) and keyword arguments(kwargs)."
   ]
  },
  {
   "cell_type": "markdown",
   "id": "de835160-35ce-4e9b-aa8e-f587cf958d04",
   "metadata": {},
   "source": [
    "## It should:\n",
    "## - return the sum of all *args if they are numbers.\n",
    "## - return a dictionary of all keyword arguments.\r\n"
   ]
  },
  {
   "cell_type": "code",
   "execution_count": 20,
   "id": "171a3547-4f5f-4331-96bf-5b4b772b27b5",
   "metadata": {},
   "outputs": [
    {
     "name": "stdout",
     "output_type": "stream",
     "text": [
      "Sum of all non-keyword arguments is: 12\n",
      "Keyword arguments: {'x': 'a', 'y': 'b', 'z': 'c'}\n"
     ]
    }
   ],
   "source": [
    "def sum_numbers(*args, **kwargs):\n",
    "    sum = 0\n",
    "    for arg in args:\n",
    "        if isinstance(arg, (int, float)):  # Check if the argument is a number\n",
    "            sum += arg  # Add to sum if it's a number\n",
    "    return sum, kwargs  # Return the sum and keyword arguments\n",
    "\n",
    "# Example usage\n",
    "result_sum, result_kwargs = sum_numbers(1, 2, '3', 4, 5, x='a', y='b', z='c')\n",
    "print(f\"Sum of all non-keyword arguments is: {result_sum}\")\n",
    "print('Keyword arguments:', result_kwargs)\n"
   ]
  },
  {
   "cell_type": "markdown",
   "id": "d838ce38-f58e-40df-819c-5c077b387fd0",
   "metadata": {},
   "source": [
    "# 4. Lambdas and Map:"
   ]
  },
  {
   "cell_type": "markdown",
   "id": "9f610523-4181-4c70-904e-d83b955e5452",
   "metadata": {},
   "source": [
    "## Write a function that uses map and a lambda to return a list where each element is squared."
   ]
  },
  {
   "cell_type": "code",
   "execution_count": 24,
   "id": "e59b3df0-c138-4674-a13b-d92a2d75619d",
   "metadata": {},
   "outputs": [
    {
     "name": "stdout",
     "output_type": "stream",
     "text": [
      "[1, 4, 9, 16, 25, 36, 49, 64]\n"
     ]
    }
   ],
   "source": [
    "def square(nums):\n",
    "    # Use map and lambda to square each element in the list\n",
    "    return list(map(lambda num: num**2, nums))\n",
    "\n",
    "nums = [1, 2, 3, 4, 5, 6, 7, 8]\n",
    "print(square(nums))  # Print the list of squared numbers"
   ]
  },
  {
   "cell_type": "markdown",
   "id": "b10358f7-1355-4f6f-9df7-abfeabdb235b",
   "metadata": {},
   "source": [
    "# 5. Filter and lambdas:"
   ]
  },
  {
   "cell_type": "markdown",
   "id": "40348044-10c6-48c1-bac7-b3f397becc64",
   "metadata": {},
   "source": [
    "## Write a function that filters out all odd numbers from a list using filter and a lambda function."
   ]
  },
  {
   "cell_type": "code",
   "execution_count": 28,
   "id": "ad06e4a4-b523-4298-b5aa-8beb86b3510f",
   "metadata": {},
   "outputs": [
    {
     "name": "stdout",
     "output_type": "stream",
     "text": [
      "[1, 3, 5, 7, 9]\n"
     ]
    }
   ],
   "source": [
    "def odd_nums(nums):\n",
    "    # Use filter and lambda to filter out odd numbers\n",
    "    return list(filter(lambda num: num % 2 != 0, nums))\n",
    "\n",
    "nums2 = [1, 2, 3, 4, 5, 6, 7, 8, 9]\n",
    "print(odd_nums(nums2))  # Print the list of odd numbers"
   ]
  },
  {
   "cell_type": "markdown",
   "id": "37046dbc-26c8-4fbc-bd54-435975097944",
   "metadata": {},
   "source": [
    "# 6. Basic List Comprehension"
   ]
  },
  {
   "cell_type": "markdown",
   "id": "603068ef-f769-4846-95f6-286ce93b0a10",
   "metadata": {},
   "source": [
    "## Create a list comprehension that takes a list of numbers and returns a list of their squares."
   ]
  },
  {
   "cell_type": "markdown",
   "id": "1b17cdb3-9064-4ae6-8bf5-ce2f32319828",
   "metadata": {},
   "source": [
    "# List of numbers\n",
    "num_list = [1, 2, 3, 4, 5, 6]\n",
    "\n",
    "# List comprehension to square each number in num_list\n",
    "square_list = [num**2 for num in num_list]\n",
    "\n",
    "# Print the list of squared numbers\n",
    "square_list"
   ]
  },
  {
   "cell_type": "markdown",
   "id": "9f9d0cf0-3fc1-46be-bee7-ba16251187a3",
   "metadata": {},
   "source": [
    "# 7. List comprehension with condition"
   ]
  },
  {
   "cell_type": "markdown",
   "id": "ec92337d-8b86-4ed1-944c-1bfadc8b3b2f",
   "metadata": {},
   "source": [
    "## Use a list comprehension to create a list of even numbers from 1 to 20."
   ]
  },
  {
   "cell_type": "code",
   "execution_count": 36,
   "id": "0b4a6d68-e141-48d2-9aea-0314a8d848f5",
   "metadata": {},
   "outputs": [
    {
     "data": {
      "text/plain": [
       "[2, 4, 6, 8, 10, 12, 14, 16, 18, 20]"
      ]
     },
     "execution_count": 36,
     "metadata": {},
     "output_type": "execute_result"
    }
   ],
   "source": [
    "# List comprehension to create a list of even numbers from 1 to 20\n",
    "numbers = [i for i in range(1, 21) if i % 2 == 0]\n",
    "\n",
    "# Display the list of even numbers\n",
    "numbers"
   ]
  },
  {
   "cell_type": "markdown",
   "id": "1fb6f660-86a3-4879-b4f1-61bcdad561ec",
   "metadata": {},
   "source": [
    "# 8. Using os and time Modules:\r\n"
   ]
  },
  {
   "cell_type": "markdown",
   "id": "4f75cbc9-3e5d-4f8b-997b-0dcd61179025",
   "metadata": {},
   "source": [
    "## Write a function  file_operations that creates a directory named \"test_folder\" using os.mkdirs(). Then pause the execution for 3 seconds using time.sleep() ,and finally, delete the directory using os.rmdir().\r\n"
   ]
  },
  {
   "cell_type": "code",
   "execution_count": 41,
   "id": "b7314fa6-ece1-43ed-a757-3cfbadf058b9",
   "metadata": {},
   "outputs": [
    {
     "name": "stdout",
     "output_type": "stream",
     "text": [
      "test_folder directory is created\n",
      "test_folder directory is removed\n"
     ]
    }
   ],
   "source": [
    "import os\n",
    "import time\n",
    "\n",
    "def file_operations():\n",
    "    os.mkdir('test_folder') # creates a directory test_folder\n",
    "    print('test_folder directory is created')\n",
    "    \n",
    "    time.sleep(3) #pauses the execution for 3 seconds\n",
    "    \n",
    "    os.rmdir('test_folder') # deletes a directory \n",
    "    print('test_folder directory is removed')\n",
    "    \n",
    "file_operations()   # Creates \"test_folder\" directory, pauses for 3 seconds, and deletes it \n"
   ]
  },
  {
   "cell_type": "markdown",
   "id": "fc6aa9ea-281c-45bb-b58a-4f921d2266f4",
   "metadata": {},
   "source": [
    "# 9. Importing Specific functions:"
   ]
  },
  {
   "cell_type": "markdown",
   "id": "a48c3b30-510e-4353-ab2f-b8ac31c5344d",
   "metadata": {},
   "source": [
    "## Write a python script that imports only sleep from the time module and renames it to pause. Use it to pause execution for 2 seconds and print \"Paused Execution...\"."
   ]
  },
  {
   "cell_type": "code",
   "execution_count": 45,
   "id": "c5495a33-431c-4033-9b3a-121471283fd2",
   "metadata": {},
   "outputs": [
    {
     "name": "stdout",
     "output_type": "stream",
     "text": [
      "Paused Execution...\n"
     ]
    }
   ],
   "source": [
    "from time import sleep as pause\n",
    "\n",
    "pause(2) ## pauses the execution for 2 seconds\n",
    "\n",
    "print(\"Paused Execution...\")"
   ]
  },
  {
   "cell_type": "markdown",
   "id": "aa90cee4-7949-475f-af01-575c8dedb2d3",
   "metadata": {},
   "source": [
    "# 10. **Recursive Function with *args and kwargs (Flattening a list):"
   ]
  },
  {
   "cell_type": "markdown",
   "id": "04e4d7b7-a7c1-4c83-b89f-db1a0d0e7061",
   "metadata": {},
   "source": [
    "## Write a recursive function flatten_list that can flatten a nested list of any depth using *args and **kwargs."
   ]
  },
  {
   "cell_type": "markdown",
   "id": "9f70aa1d-277e-4915-a81a-90dffedc5dc9",
   "metadata": {},
   "source": [
    "## Flattening a list means converting a nested list into a single-level list. If the list contains sub-lists, we recursively traverse them and extract their elements to form one flat list."
   ]
  },
  {
   "cell_type": "code",
   "execution_count": 50,
   "id": "a22cc3ce-f111-403f-b2be-0181f777da8f",
   "metadata": {},
   "outputs": [
    {
     "name": "stdout",
     "output_type": "stream",
     "text": [
      "[1, 2, 3, 4, 5, 6, 7, 8, 9, 10, 11]\n"
     ]
    }
   ],
   "source": [
    "def flatten_list(nested_list, *args, **kwargs):\n",
    "    flat_list = []  # Initialize an empty list to store flattened elements\n",
    "    \n",
    "    def _flatten(sublist):\n",
    "        for i in sublist:\n",
    "            if isinstance(i, list):\n",
    "                _flatten(i)  # Recursively flatten sublists\n",
    "            else:\n",
    "                flat_list.append(i)  # Append non-list elements to flat_list\n",
    "    \n",
    "    _flatten(nested_list)  # Flatten the main nested_list\n",
    "    \n",
    "    for arg in args:\n",
    "        if isinstance(arg, list):\n",
    "            _flatten(arg)  # Flatten additional list arguments\n",
    "        else:\n",
    "            flat_list.append(arg)  # Append non-list arguments\n",
    "    \n",
    "    for key, value in kwargs.items():\n",
    "        if isinstance(value, list):\n",
    "            _flatten(value)  # Flatten list keyword arguments\n",
    "        else:\n",
    "            flat_list.append(value)  # Append non-list keyword arguments\n",
    "    \n",
    "    return flat_list  # Return the flattened list\n",
    "\n",
    "# Example usage\n",
    "print(flatten_list([1, [2, 3], [[4, 5], 6]], [7, 8], extra=[9, [10, 11]]))"
   ]
  }
 ],
 "metadata": {
  "kernelspec": {
   "display_name": "Python 3 (ipykernel)",
   "language": "python",
   "name": "python3"
  },
  "language_info": {
   "codemirror_mode": {
    "name": "ipython",
    "version": 3
   },
   "file_extension": ".py",
   "mimetype": "text/x-python",
   "name": "python",
   "nbconvert_exporter": "python",
   "pygments_lexer": "ipython3",
   "version": "3.12.4"
  }
 },
 "nbformat": 4,
 "nbformat_minor": 5
}
